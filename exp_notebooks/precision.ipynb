{
 "cells": [
  {
   "cell_type": "code",
   "execution_count": 38,
   "metadata": {},
   "outputs": [],
   "source": [
    "import torch\n",
    "import time\n",
    "\n",
    "# List of all the data types in PyTorch\n",
    "data_types = [torch.float16, torch.float32, torch.float64, torch.bfloat16, torch.complex32, torch.complex64, torch.complex128, torch.int8, torch.int16, torch.int32, torch.int64, torch.uint8]\n",
    "\n",
    "# Create an empty dictionary to store the tensors\n",
    "tensors = {}\n",
    "forward_size = (64, 64, 128, 128)\n",
    "inverse_size = (64, 64, 128, 65)\n",
    "\n",
    "for dtype in data_types:\n",
    "    if \"int\" in str(dtype):\n",
    "        # For integer types, we generate a tensor of random integers.\n",
    "        tensor = torch.randint(low=int(torch.iinfo(dtype).min), high=int(torch.iinfo(dtype).max), size=forward_size, dtype=dtype)\n",
    "    elif \"complex\" in str(dtype):\n",
    "        # For complex types, we generate a tensor of random complex numbers.\n",
    "        real = torch.randn(inverse_size, dtype=torch.get_default_dtype())\n",
    "        imag = torch.randn(inverse_size, dtype=torch.get_default_dtype())\n",
    "        tensor = torch.complex(real, imag)\n",
    "    else:\n",
    "        # For float types, we generate a tensor of random floats.\n",
    "        tensor = torch.randn(forward_size, dtype=dtype)\n",
    "\n",
    "    # Store the tensor in the dictionary\n",
    "    tensors[str(dtype)] = tensor\n"
   ]
  },
  {
   "cell_type": "code",
   "execution_count": 39,
   "metadata": {},
   "outputs": [
    {
     "name": "stderr",
     "output_type": "stream",
     "text": [
      "/tmp/ipykernel_89515/2920195590.py:2: UserWarning: To copy construct from a tensor, it is recommended to use sourceTensor.clone().detach() or sourceTensor.clone().detach().requires_grad_(True), rather than torch.tensor(sourceTensor).\n",
      "  tensors['torch.complex128'] = torch.tensor(tensors['torch.complex64'].clone().detach(), dtype=torch.complex128)\n"
     ]
    }
   ],
   "source": [
    "tensors['torch.complex32'] = tensors['torch.complex32'].chalf()\n",
    "tensors['torch.complex128'] = torch.tensor(tensors['torch.complex64'].clone().detach(), dtype=torch.complex128)"
   ]
  },
  {
   "cell_type": "code",
   "execution_count": 45,
   "metadata": {},
   "outputs": [
    {
     "name": "stdout",
     "output_type": "stream",
     "text": [
      "Processing time for torch.float16: 0.018626928329467773 seconds\n",
      "Processing time for torch.float32: 0.022693634033203125 seconds\n",
      "Processing time for torch.float64: 0.04119467735290527 seconds\n",
      "Runtime error for torch.bfloat16: Unsupported dtype BFloat16\n",
      "Processing time for torch.complex32: 0.007667064666748047 seconds\n",
      "Processing time for torch.complex64: 0.05406379699707031 seconds\n",
      "Processing time for torch.complex128: 0.0332334041595459 seconds\n",
      "Processing time for torch.int8: 0.01916956901550293 seconds\n",
      "Processing time for torch.int16: 0.011337518692016602 seconds\n",
      "Processing time for torch.int32: 0.04053473472595215 seconds\n",
      "Processing time for torch.int64: 0.04292798042297363 seconds\n",
      "Processing time for torch.uint8: 0.006592512130737305 seconds\n"
     ]
    }
   ],
   "source": [
    "\n",
    "processed_tensors = {}\n",
    "fft_dims = (2, 3)\n",
    "norm='backward'\n",
    "\n",
    "for dtype, tensor in tensors.items():\n",
    "    try:\n",
    "        start_time = time.time()\n",
    "        tensor = tensor.to('cuda')\n",
    "\n",
    "        if \"complex\" in dtype:\n",
    "            # Apply irfftn to complex tensors\n",
    "            processed_tensors[dtype] = torch.fft.irfftn(tensor, dim=fft_dims, norm=norm)\n",
    "        elif \"float\" in dtype or \"bfloat\" in dtype:\n",
    "            # Apply rfftn to real (floating point) tensors\n",
    "            processed_tensors[dtype] = torch.fft.rfftn(tensor, dim=fft_dims, norm=norm)\n",
    "        \n",
    "        else:\n",
    "            # Apply fftn to integer tensors\n",
    "            processed_tensors[dtype] = torch.fft.rfftn(tensor,  dim=fft_dims, norm=norm)\n",
    "\n",
    "        end_time = time.time()\n",
    "        print(f\"Processing time for {dtype}: {end_time - start_time} seconds\")\n",
    "    except RuntimeError as e:\n",
    "        print(f\"Runtime error for {dtype}: {str(e)}\")\n",
    "        continue"
   ]
  },
  {
   "cell_type": "code",
   "execution_count": null,
   "metadata": {},
   "outputs": [],
   "source": [
    "test_tensor = torch.full((64, 64, 128, 128), 1, dtype=torch.float16)\n",
    "test_tensor = test_tensor.to('cuda')\n",
    "test_tensor = torch.fft.rfftn(test_tensor, dim=(2, 3), norm='backward')"
   ]
  },
  {
   "cell_type": "code",
   "execution_count": 43,
   "metadata": {},
   "outputs": [],
   "source": [
    "#check nans in tensor\n",
    "def check_nan(tensor):\n",
    "    return torch.isnan(tensor).any()"
   ]
  },
  {
   "cell_type": "code",
   "execution_count": 44,
   "metadata": {},
   "outputs": [
    {
     "name": "stdout",
     "output_type": "stream",
     "text": [
      "No NaNs found in torch.float16\n",
      "No NaNs found in torch.float32\n",
      "No NaNs found in torch.float64\n",
      "No NaNs found in torch.complex32\n",
      "No NaNs found in torch.complex64\n",
      "No NaNs found in torch.complex128\n",
      "No NaNs found in torch.int8\n",
      "No NaNs found in torch.int16\n",
      "No NaNs found in torch.int32\n",
      "No NaNs found in torch.int64\n",
      "No NaNs found in torch.uint8\n"
     ]
    }
   ],
   "source": [
    "for dtype, tensor in processed_tensors.items():\n",
    "    if check_nan(tensor):\n",
    "        print(f\"NaNs found in {dtype}\")\n",
    "    else:\n",
    "        print(f\"No NaNs found in {dtype}\")"
   ]
  },
  {
   "cell_type": "code",
   "execution_count": null,
   "metadata": {},
   "outputs": [],
   "source": []
  }
 ],
 "metadata": {
  "kernelspec": {
   "display_name": "Python 3.10.6 64-bit",
   "language": "python",
   "name": "python3"
  },
  "language_info": {
   "codemirror_mode": {
    "name": "ipython",
    "version": 3
   },
   "file_extension": ".py",
   "mimetype": "text/x-python",
   "name": "python",
   "nbconvert_exporter": "python",
   "pygments_lexer": "ipython3",
   "version": "3.10.6"
  },
  "orig_nbformat": 4,
  "vscode": {
   "interpreter": {
    "hash": "916dbcbb3f70747c44a77c7bcd40155683ae19c65e1c03b4aa3499c5328201f1"
   }
  }
 },
 "nbformat": 4,
 "nbformat_minor": 2
}
